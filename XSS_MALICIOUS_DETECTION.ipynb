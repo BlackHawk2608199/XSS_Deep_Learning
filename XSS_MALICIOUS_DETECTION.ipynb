{
 "cells": [
  {
   "cell_type": "markdown",
   "id": "41e8959a",
   "metadata": {},
   "source": [
    "# Importing Necessary Libraries"
   ]
  },
  {
   "cell_type": "code",
   "execution_count": 1,
   "id": "acd0de9e",
   "metadata": {},
   "outputs": [],
   "source": [
    "import pandas as pd\n",
    "import numpy as np\n",
    "import matplotlib.pyplot as plt\n",
    "\n",
    "from sklearn.preprocessing import LabelEncoder"
   ]
  },
  {
   "cell_type": "markdown",
   "id": "5a2ad821",
   "metadata": {},
   "source": [
    "# Reading the datasets"
   ]
  },
  {
   "cell_type": "code",
   "execution_count": 2,
   "id": "4079ee10",
   "metadata": {},
   "outputs": [],
   "source": [
    "data=pd.read_csv('XSSTraining.csv')"
   ]
  },
  {
   "cell_type": "code",
   "execution_count": 3,
   "id": "85b70544",
   "metadata": {},
   "outputs": [
    {
     "name": "stdout",
     "output_type": "stream",
     "text": [
      "<class 'pandas.core.frame.DataFrame'>\n",
      "RangeIndex: 19122 entries, 0 to 19121\n",
      "Data columns (total 66 columns):\n",
      " #   Column                       Non-Null Count  Dtype  \n",
      "---  ------                       --------------  -----  \n",
      " 0   Contains &lt                 19122 non-null  int64  \n",
      " 1   ScripTag                     19122 non-null  int64  \n",
      " 2   Readable                     19122 non-null  int64  \n",
      " 3   Contains \"><                 19122 non-null  int64  \n",
      " 4   Contains '><                 19122 non-null  int64  \n",
      " 5   Contains And                 19122 non-null  int64  \n",
      " 6   Contains Percentage          19122 non-null  int64  \n",
      " 7   Contains Slash               19122 non-null  int64  \n",
      " 8   Contains BackSlash           19122 non-null  int64  \n",
      " 9   Contains Plus                19122 non-null  int64  \n",
      " 10  Contains Document            19122 non-null  int64  \n",
      " 11  Contains Window              19122 non-null  int64  \n",
      " 12  Contains Onload              19122 non-null  int64  \n",
      " 13  Contains Onerror             19122 non-null  int64  \n",
      " 14  Contains DIV                 19122 non-null  int64  \n",
      " 15  Contains iframe              19122 non-null  int64  \n",
      " 16  Contains img                 19122 non-null  int64  \n",
      " 17  Contains SRC                 19122 non-null  int64  \n",
      " 18  Containss Var                19122 non-null  int64  \n",
      " 19  Contains Eval                19122 non-null  int64  \n",
      " 20  Contains href                19122 non-null  int64  \n",
      " 21  Contains Cookie              19122 non-null  int64  \n",
      " 22  Contains StringfromCharCode  19122 non-null  int64  \n",
      " 23  Contains Single Quote        19122 non-null  int64  \n",
      " 24  Contains Question Mark       19122 non-null  int64  \n",
      " 25  Contains Exclamation Mark    19122 non-null  int64  \n",
      " 26  Contains Semicolon           19122 non-null  int64  \n",
      " 27  Contains HTTP                19122 non-null  int64  \n",
      " 28  Contains JS                  19122 non-null  int64  \n",
      " 29  Contains Hash                19122 non-null  int64  \n",
      " 30  Contains Equal               19122 non-null  int64  \n",
      " 31  Contains Open Bracket        19122 non-null  int64  \n",
      " 32  Contains Close Bracket       19122 non-null  int64  \n",
      " 33  Contains Duble Bracket       19122 non-null  int64  \n",
      " 34  Contains Dollar              19122 non-null  int64  \n",
      " 35  Contains Open Parenthesis    19122 non-null  int64  \n",
      " 36  Contains Close Parenthesis   19122 non-null  int64  \n",
      " 37  Contains Asterisk            19122 non-null  int64  \n",
      " 38  Contains Comma               19122 non-null  int64  \n",
      " 39  Contains Hyphen              19122 non-null  int64  \n",
      " 40  Contains Less Than           19122 non-null  int64  \n",
      " 41  Contains Greater Than        19122 non-null  int64  \n",
      " 42  Contains At                  19122 non-null  int64  \n",
      " 43  Contains Underscore          19122 non-null  int64  \n",
      " 44  Contains location            19122 non-null  int64  \n",
      " 45  Contains Search              19122 non-null  int64  \n",
      " 46  Contains &#                  19122 non-null  int64  \n",
      " 47  Contains Colon               19122 non-null  int64  \n",
      " 48  Contains Dots                19122 non-null  int64  \n",
      " 49  Contains Open Brace          19122 non-null  int64  \n",
      " 50  Contains Close Brace         19122 non-null  int64  \n",
      " 51  Contains tilde               19122 non-null  int64  \n",
      " 52  Contains Spase               19122 non-null  int64  \n",
      " 53  Contains Qutions             19122 non-null  int64  \n",
      " 54  Contains Grave               19122 non-null  int64  \n",
      " 55  Contains Duble Equals        19122 non-null  int64  \n",
      " 56  Contains Duble Slash         19122 non-null  int64  \n",
      " 57  Contains Vertical Bar        19122 non-null  int64  \n",
      " 58  Contains Power               19122 non-null  int64  \n",
      " 59  Contains Broken Bar          19122 non-null  int64  \n",
      " 60  Contains Alert               19122 non-null  int64  \n",
      " 61  Contains Break Line          19122 non-null  int64  \n",
      " 62  Letters Ratio                19122 non-null  float64\n",
      " 63  Numbuers Ratio               19122 non-null  float64\n",
      " 64  Symbols Ratio                19122 non-null  float64\n",
      " 65  Class                        19122 non-null  object \n",
      "dtypes: float64(3), int64(62), object(1)\n",
      "memory usage: 9.6+ MB\n"
     ]
    }
   ],
   "source": [
    "data.info()"
   ]
  },
  {
   "cell_type": "markdown",
   "id": "cde11a18",
   "metadata": {},
   "source": [
    "# Label Encoding the String Values"
   ]
  },
  {
   "cell_type": "code",
   "execution_count": 4,
   "id": "fede3780",
   "metadata": {},
   "outputs": [
    {
     "data": {
      "text/html": [
       "<div>\n",
       "<style scoped>\n",
       "    .dataframe tbody tr th:only-of-type {\n",
       "        vertical-align: middle;\n",
       "    }\n",
       "\n",
       "    .dataframe tbody tr th {\n",
       "        vertical-align: top;\n",
       "    }\n",
       "\n",
       "    .dataframe thead th {\n",
       "        text-align: right;\n",
       "    }\n",
       "</style>\n",
       "<table border=\"1\" class=\"dataframe\">\n",
       "  <thead>\n",
       "    <tr style=\"text-align: right;\">\n",
       "      <th></th>\n",
       "      <th>Contains &amp;lt</th>\n",
       "      <th>ScripTag</th>\n",
       "      <th>Readable</th>\n",
       "      <th>Contains \"&gt;&lt;</th>\n",
       "      <th>Contains '&gt;&lt;</th>\n",
       "      <th>Contains And</th>\n",
       "      <th>Contains Percentage</th>\n",
       "      <th>Contains Slash</th>\n",
       "      <th>Contains BackSlash</th>\n",
       "      <th>Contains Plus</th>\n",
       "      <th>...</th>\n",
       "      <th>Contains Duble Slash</th>\n",
       "      <th>Contains Vertical Bar</th>\n",
       "      <th>Contains Power</th>\n",
       "      <th>Contains Broken Bar</th>\n",
       "      <th>Contains Alert</th>\n",
       "      <th>Contains Break Line</th>\n",
       "      <th>Letters Ratio</th>\n",
       "      <th>Numbuers Ratio</th>\n",
       "      <th>Symbols Ratio</th>\n",
       "      <th>Class</th>\n",
       "    </tr>\n",
       "  </thead>\n",
       "  <tbody>\n",
       "    <tr>\n",
       "      <th>0</th>\n",
       "      <td>0</td>\n",
       "      <td>1</td>\n",
       "      <td>1</td>\n",
       "      <td>1</td>\n",
       "      <td>0</td>\n",
       "      <td>0</td>\n",
       "      <td>0</td>\n",
       "      <td>1</td>\n",
       "      <td>0</td>\n",
       "      <td>0</td>\n",
       "      <td>...</td>\n",
       "      <td>1</td>\n",
       "      <td>0</td>\n",
       "      <td>0</td>\n",
       "      <td>0</td>\n",
       "      <td>1</td>\n",
       "      <td>0</td>\n",
       "      <td>0.7614</td>\n",
       "      <td>0.0114</td>\n",
       "      <td>0.2273</td>\n",
       "      <td>1</td>\n",
       "    </tr>\n",
       "    <tr>\n",
       "      <th>1</th>\n",
       "      <td>0</td>\n",
       "      <td>1</td>\n",
       "      <td>1</td>\n",
       "      <td>1</td>\n",
       "      <td>0</td>\n",
       "      <td>0</td>\n",
       "      <td>0</td>\n",
       "      <td>1</td>\n",
       "      <td>0</td>\n",
       "      <td>0</td>\n",
       "      <td>...</td>\n",
       "      <td>1</td>\n",
       "      <td>0</td>\n",
       "      <td>0</td>\n",
       "      <td>0</td>\n",
       "      <td>1</td>\n",
       "      <td>0</td>\n",
       "      <td>0.7614</td>\n",
       "      <td>0.0114</td>\n",
       "      <td>0.2273</td>\n",
       "      <td>1</td>\n",
       "    </tr>\n",
       "    <tr>\n",
       "      <th>2</th>\n",
       "      <td>0</td>\n",
       "      <td>1</td>\n",
       "      <td>1</td>\n",
       "      <td>1</td>\n",
       "      <td>0</td>\n",
       "      <td>0</td>\n",
       "      <td>0</td>\n",
       "      <td>1</td>\n",
       "      <td>0</td>\n",
       "      <td>0</td>\n",
       "      <td>...</td>\n",
       "      <td>1</td>\n",
       "      <td>0</td>\n",
       "      <td>0</td>\n",
       "      <td>0</td>\n",
       "      <td>1</td>\n",
       "      <td>0</td>\n",
       "      <td>0.7203</td>\n",
       "      <td>0.0593</td>\n",
       "      <td>0.2203</td>\n",
       "      <td>1</td>\n",
       "    </tr>\n",
       "    <tr>\n",
       "      <th>3</th>\n",
       "      <td>0</td>\n",
       "      <td>1</td>\n",
       "      <td>0</td>\n",
       "      <td>0</td>\n",
       "      <td>0</td>\n",
       "      <td>1</td>\n",
       "      <td>1</td>\n",
       "      <td>1</td>\n",
       "      <td>0</td>\n",
       "      <td>1</td>\n",
       "      <td>...</td>\n",
       "      <td>1</td>\n",
       "      <td>0</td>\n",
       "      <td>0</td>\n",
       "      <td>0</td>\n",
       "      <td>1</td>\n",
       "      <td>0</td>\n",
       "      <td>0.7071</td>\n",
       "      <td>0.1065</td>\n",
       "      <td>0.1864</td>\n",
       "      <td>1</td>\n",
       "    </tr>\n",
       "    <tr>\n",
       "      <th>4</th>\n",
       "      <td>0</td>\n",
       "      <td>1</td>\n",
       "      <td>1</td>\n",
       "      <td>0</td>\n",
       "      <td>0</td>\n",
       "      <td>0</td>\n",
       "      <td>1</td>\n",
       "      <td>1</td>\n",
       "      <td>0</td>\n",
       "      <td>0</td>\n",
       "      <td>...</td>\n",
       "      <td>1</td>\n",
       "      <td>0</td>\n",
       "      <td>0</td>\n",
       "      <td>0</td>\n",
       "      <td>1</td>\n",
       "      <td>0</td>\n",
       "      <td>0.7158</td>\n",
       "      <td>0.1053</td>\n",
       "      <td>0.1789</td>\n",
       "      <td>1</td>\n",
       "    </tr>\n",
       "  </tbody>\n",
       "</table>\n",
       "<p>5 rows × 66 columns</p>\n",
       "</div>"
      ],
      "text/plain": [
       "   Contains &lt  ScripTag  Readable  Contains \"><  Contains '><  Contains And  \\\n",
       "0             0         1         1             1             0             0   \n",
       "1             0         1         1             1             0             0   \n",
       "2             0         1         1             1             0             0   \n",
       "3             0         1         0             0             0             1   \n",
       "4             0         1         1             0             0             0   \n",
       "\n",
       "   Contains Percentage  Contains Slash  Contains BackSlash  Contains Plus  \\\n",
       "0                    0               1                   0              0   \n",
       "1                    0               1                   0              0   \n",
       "2                    0               1                   0              0   \n",
       "3                    1               1                   0              1   \n",
       "4                    1               1                   0              0   \n",
       "\n",
       "   ...  Contains Duble Slash  Contains Vertical Bar  Contains Power  \\\n",
       "0  ...                     1                      0               0   \n",
       "1  ...                     1                      0               0   \n",
       "2  ...                     1                      0               0   \n",
       "3  ...                     1                      0               0   \n",
       "4  ...                     1                      0               0   \n",
       "\n",
       "   Contains Broken Bar  Contains Alert  Contains Break Line  Letters Ratio  \\\n",
       "0                    0               1                    0         0.7614   \n",
       "1                    0               1                    0         0.7614   \n",
       "2                    0               1                    0         0.7203   \n",
       "3                    0               1                    0         0.7071   \n",
       "4                    0               1                    0         0.7158   \n",
       "\n",
       "   Numbuers Ratio  Symbols Ratio  Class  \n",
       "0          0.0114         0.2273      1  \n",
       "1          0.0114         0.2273      1  \n",
       "2          0.0593         0.2203      1  \n",
       "3          0.1065         0.1864      1  \n",
       "4          0.1053         0.1789      1  \n",
       "\n",
       "[5 rows x 66 columns]"
      ]
     },
     "execution_count": 4,
     "metadata": {},
     "output_type": "execute_result"
    }
   ],
   "source": [
    "for i in data.columns:\n",
    "    if data[i].dtype=='object': \n",
    "        le = LabelEncoder()\n",
    "        le.fit(list(data[i].values))\n",
    "        data[i] = le.transform(data[i].values)\n",
    "        \n",
    "data.head()        "
   ]
  },
  {
   "cell_type": "markdown",
   "id": "db967506",
   "metadata": {},
   "source": [
    "# Finding the correlation between class and rest of the columns"
   ]
  },
  {
   "cell_type": "code",
   "execution_count": 5,
   "id": "95fa9956",
   "metadata": {},
   "outputs": [
    {
     "data": {
      "text/plain": [
       "Class                     1.000000\n",
       "Contains Alert            0.825814\n",
       "ScripTag                  0.751401\n",
       "Contains Less Than        0.715939\n",
       "Contains Question Mark    0.686817\n",
       "                            ...   \n",
       "Contains DIV              0.019918\n",
       "Contains Grave            0.008989\n",
       "Contains Hash             0.002743\n",
       "Contains And              0.001702\n",
       "Readable                  0.001522\n",
       "Name: Class, Length: 66, dtype: float64"
      ]
     },
     "execution_count": 5,
     "metadata": {},
     "output_type": "execute_result"
    }
   ],
   "source": [
    "data.corr().abs()['Class'].sort_values(ascending = False)"
   ]
  },
  {
   "cell_type": "markdown",
   "id": "fc5b8beb",
   "metadata": {},
   "source": [
    "# Plotting"
   ]
  },
  {
   "cell_type": "code",
   "execution_count": 6,
   "id": "7d1ebefc",
   "metadata": {},
   "outputs": [],
   "source": [
    "#Histograms"
   ]
  },
  {
   "cell_type": "code",
   "execution_count": 7,
   "id": "b913f99f",
   "metadata": {},
   "outputs": [
    {
     "data": {
      "text/plain": [
       "array([[<AxesSubplot:title={'center':'Contains &lt'}>,\n",
       "        <AxesSubplot:title={'center':'ScripTag'}>,\n",
       "        <AxesSubplot:title={'center':'Readable'}>,\n",
       "        <AxesSubplot:title={'center':'Contains \"><'}>,\n",
       "        <AxesSubplot:title={'center':\"Contains '><\"}>,\n",
       "        <AxesSubplot:title={'center':'Contains And'}>,\n",
       "        <AxesSubplot:title={'center':'Contains Percentage'}>,\n",
       "        <AxesSubplot:title={'center':'Contains Slash'}>],\n",
       "       [<AxesSubplot:title={'center':'Contains BackSlash'}>,\n",
       "        <AxesSubplot:title={'center':'Contains Plus'}>,\n",
       "        <AxesSubplot:title={'center':'Contains Document'}>,\n",
       "        <AxesSubplot:title={'center':'Contains Window'}>,\n",
       "        <AxesSubplot:title={'center':'Contains Onload'}>,\n",
       "        <AxesSubplot:title={'center':'Contains Onerror'}>,\n",
       "        <AxesSubplot:title={'center':'Contains DIV'}>,\n",
       "        <AxesSubplot:title={'center':'Contains iframe'}>],\n",
       "       [<AxesSubplot:title={'center':'Contains img'}>,\n",
       "        <AxesSubplot:title={'center':'Contains SRC'}>,\n",
       "        <AxesSubplot:title={'center':'Containss Var'}>,\n",
       "        <AxesSubplot:title={'center':'Contains Eval'}>,\n",
       "        <AxesSubplot:title={'center':'Contains href'}>,\n",
       "        <AxesSubplot:title={'center':'Contains Cookie'}>,\n",
       "        <AxesSubplot:title={'center':'Contains StringfromCharCode'}>,\n",
       "        <AxesSubplot:title={'center':'Contains Single Quote'}>],\n",
       "       [<AxesSubplot:title={'center':'Contains Question Mark'}>,\n",
       "        <AxesSubplot:title={'center':'Contains Exclamation Mark'}>,\n",
       "        <AxesSubplot:title={'center':'Contains Semicolon'}>,\n",
       "        <AxesSubplot:title={'center':'Contains HTTP'}>,\n",
       "        <AxesSubplot:title={'center':'Contains JS'}>,\n",
       "        <AxesSubplot:title={'center':'Contains Hash'}>,\n",
       "        <AxesSubplot:title={'center':'Contains Equal'}>,\n",
       "        <AxesSubplot:title={'center':'Contains Open Bracket'}>],\n",
       "       [<AxesSubplot:title={'center':'Contains Close Bracket'}>,\n",
       "        <AxesSubplot:title={'center':'Contains Duble Bracket'}>,\n",
       "        <AxesSubplot:title={'center':'Contains Dollar'}>,\n",
       "        <AxesSubplot:title={'center':'Contains Open Parenthesis'}>,\n",
       "        <AxesSubplot:title={'center':'Contains Close Parenthesis'}>,\n",
       "        <AxesSubplot:title={'center':'Contains Asterisk'}>,\n",
       "        <AxesSubplot:title={'center':'Contains Comma'}>,\n",
       "        <AxesSubplot:title={'center':'Contains Hyphen'}>],\n",
       "       [<AxesSubplot:title={'center':'Contains Less Than'}>,\n",
       "        <AxesSubplot:title={'center':'Contains Greater Than'}>,\n",
       "        <AxesSubplot:title={'center':'Contains At'}>,\n",
       "        <AxesSubplot:title={'center':'Contains Underscore'}>,\n",
       "        <AxesSubplot:title={'center':'Contains location'}>,\n",
       "        <AxesSubplot:title={'center':'Contains Search'}>,\n",
       "        <AxesSubplot:title={'center':'Contains &#'}>,\n",
       "        <AxesSubplot:title={'center':'Contains Colon'}>],\n",
       "       [<AxesSubplot:title={'center':'Contains Dots'}>,\n",
       "        <AxesSubplot:title={'center':'Contains Open Brace'}>,\n",
       "        <AxesSubplot:title={'center':'Contains Close Brace'}>,\n",
       "        <AxesSubplot:title={'center':'Contains tilde'}>,\n",
       "        <AxesSubplot:title={'center':'Contains Spase'}>,\n",
       "        <AxesSubplot:title={'center':'Contains Qutions'}>,\n",
       "        <AxesSubplot:title={'center':'Contains Grave'}>,\n",
       "        <AxesSubplot:title={'center':'Contains Duble Equals'}>],\n",
       "       [<AxesSubplot:title={'center':'Contains Duble Slash'}>,\n",
       "        <AxesSubplot:title={'center':'Contains Vertical Bar'}>,\n",
       "        <AxesSubplot:title={'center':'Contains Power'}>,\n",
       "        <AxesSubplot:title={'center':'Contains Broken Bar'}>,\n",
       "        <AxesSubplot:title={'center':'Contains Alert'}>,\n",
       "        <AxesSubplot:title={'center':'Contains Break Line'}>,\n",
       "        <AxesSubplot:title={'center':'Letters Ratio'}>,\n",
       "        <AxesSubplot:title={'center':'Numbuers Ratio'}>],\n",
       "       [<AxesSubplot:title={'center':'Symbols Ratio'}>,\n",
       "        <AxesSubplot:title={'center':'Class'}>, <AxesSubplot:>,\n",
       "        <AxesSubplot:>, <AxesSubplot:>, <AxesSubplot:>, <AxesSubplot:>,\n",
       "        <AxesSubplot:>]], dtype=object)"
      ]
     },
     "execution_count": 7,
     "metadata": {},
     "output_type": "execute_result"
    },
    {
     "data": {
      "image/png": "[encoded data removed]",
      "text/plain": [
       "<Figure size 1800x1800 with 72 Axes>"
      ]
     },
     "metadata": {
      "needs_background": "light"
     },
     "output_type": "display_data"
    }
   ],
   "source": [
    "data.hist(figsize=(25,25))"
   ]
  },
  {
   "cell_type": "code",
   "execution_count": 8,
   "id": "58c02b37",
   "metadata": {},
   "outputs": [],
   "source": [
    "X=data.drop(['Class'],axis='columns')\n",
    "y=data['Class']"
   ]
  },
  {
   "cell_type": "code",
   "execution_count": 9,
   "id": "9afc7254",
   "metadata": {},
   "outputs": [
    {
     "data": {
      "text/plain": [
       "(19122, 65)"
      ]
     },
     "execution_count": 9,
     "metadata": {},
     "output_type": "execute_result"
    }
   ],
   "source": [
    "X.shape"
   ]
  },
  {
   "cell_type": "code",
   "execution_count": 10,
   "id": "cb83f6bf",
   "metadata": {},
   "outputs": [],
   "source": [
    "from sklearn.preprocessing import MinMaxScaler \n",
    "sc=MinMaxScaler()\n",
    "X= sc.fit_transform(X)"
   ]
  },
  {
   "cell_type": "markdown",
   "id": "442409e9",
   "metadata": {},
   "source": [
    "# DNN_Model"
   ]
  },
  {
   "cell_type": "code",
   "execution_count": 11,
   "id": "626f99ac",
   "metadata": {},
   "outputs": [],
   "source": [
    "import tensorflow as tf\n",
    "from tensorflow import keras\n",
    "from tensorflow.keras import layers"
   ]
  },
  {
   "cell_type": "code",
   "execution_count": 12,
   "id": "d1a2662c",
   "metadata": {},
   "outputs": [
    {
     "name": "stdout",
     "output_type": "stream",
     "text": [
      "Epoch 1/10\n",
      "598/598 [==============================] - 4s 3ms/step - loss: 0.0463 - accuracy: 0.9847\n",
      "Epoch 2/10\n",
      "598/598 [==============================] - 2s 3ms/step - loss: 0.0193 - accuracy: 0.9933\n",
      "Epoch 3/10\n",
      "598/598 [==============================] - 2s 3ms/step - loss: 0.0142 - accuracy: 0.9955\n",
      "Epoch 4/10\n",
      "598/598 [==============================] - 2s 3ms/step - loss: 0.0126 - accuracy: 0.9955\n",
      "Epoch 5/10\n",
      "598/598 [==============================] - 2s 3ms/step - loss: 0.0110 - accuracy: 0.9963\n",
      "Epoch 6/10\n",
      "598/598 [==============================] - 2s 3ms/step - loss: 0.0093 - accuracy: 0.9969\n",
      "Epoch 7/10\n",
      "598/598 [==============================] - 2s 3ms/step - loss: 0.0092 - accuracy: 0.9968\n",
      "Epoch 8/10\n",
      "598/598 [==============================] - 2s 3ms/step - loss: 0.0071 - accuracy: 0.9974\n",
      "Epoch 9/10\n",
      "598/598 [==============================] - 2s 3ms/step - loss: 0.0075 - accuracy: 0.9975\n",
      "Epoch 10/10\n",
      "598/598 [==============================] - 2s 3ms/step - loss: 0.0062 - accuracy: 0.9981\n"
     ]
    },
    {
     "data": {
      "text/plain": [
       "<tensorflow.python.keras.callbacks.History at 0x21d640bb7c0>"
      ]
     },
     "execution_count": 12,
     "metadata": {},
     "output_type": "execute_result"
    }
   ],
   "source": [
    "model=keras.Sequential([keras.layers.Dense(400,input_shape=(65,),activation='relu'),\n",
    "                        keras.layers.Dense(200,input_shape=(400,),activation='relu'),\n",
    "                        keras.layers.Dense(100,input_shape=(200,), activation='relu'),\n",
    "                        keras.layers.Dense(50,input_shape=(100,),activation='relu'),\n",
    "                        keras.layers.Dense(1,activation='sigmoid')\n",
    "    \n",
    "])\n",
    "model.compile(optimizer='adam',loss='binary_crossentropy',metrics=['accuracy'])\n",
    "model.fit(X,y,epochs=10)"
   ]
  },
  {
   "cell_type": "markdown",
   "id": "3e0db6d1",
   "metadata": {},
   "source": [
    "# Loading the testing data"
   ]
  },
  {
   "cell_type": "code",
   "execution_count": 13,
   "id": "e82a620b",
   "metadata": {},
   "outputs": [],
   "source": [
    "testing_data=pd.read_csv('XSSTesting.csv')"
   ]
  },
  {
   "cell_type": "code",
   "execution_count": 14,
   "id": "9ea0997f",
   "metadata": {},
   "outputs": [
    {
     "data": {
      "text/html": [
       "<div>\n",
       "<style scoped>\n",
       "    .dataframe tbody tr th:only-of-type {\n",
       "        vertical-align: middle;\n",
       "    }\n",
       "\n",
       "    .dataframe tbody tr th {\n",
       "        vertical-align: top;\n",
       "    }\n",
       "\n",
       "    .dataframe thead th {\n",
       "        text-align: right;\n",
       "    }\n",
       "</style>\n",
       "<table border=\"1\" class=\"dataframe\">\n",
       "  <thead>\n",
       "    <tr style=\"text-align: right;\">\n",
       "      <th></th>\n",
       "      <th>Contains &amp;lt</th>\n",
       "      <th>ScripTag</th>\n",
       "      <th>Readable</th>\n",
       "      <th>Contains \"&gt;&lt;</th>\n",
       "      <th>Contains '&gt;&lt;</th>\n",
       "      <th>Contains And</th>\n",
       "      <th>Contains Percentage</th>\n",
       "      <th>Contains Slash</th>\n",
       "      <th>Contains BackSlash</th>\n",
       "      <th>Contains Plus</th>\n",
       "      <th>...</th>\n",
       "      <th>Contains Duble Slash</th>\n",
       "      <th>Contains Vertical Bar</th>\n",
       "      <th>Contains Power</th>\n",
       "      <th>Contains Broken Bar</th>\n",
       "      <th>Contains Alert</th>\n",
       "      <th>Contains Break Line</th>\n",
       "      <th>Letters Ratio</th>\n",
       "      <th>Numbuers Ratio</th>\n",
       "      <th>Symbols Ratio</th>\n",
       "      <th>Class</th>\n",
       "    </tr>\n",
       "  </thead>\n",
       "  <tbody>\n",
       "    <tr>\n",
       "      <th>0</th>\n",
       "      <td>0</td>\n",
       "      <td>1</td>\n",
       "      <td>0</td>\n",
       "      <td>0</td>\n",
       "      <td>0</td>\n",
       "      <td>0</td>\n",
       "      <td>1</td>\n",
       "      <td>1</td>\n",
       "      <td>0</td>\n",
       "      <td>0</td>\n",
       "      <td>...</td>\n",
       "      <td>1</td>\n",
       "      <td>0</td>\n",
       "      <td>0</td>\n",
       "      <td>0</td>\n",
       "      <td>1</td>\n",
       "      <td>1</td>\n",
       "      <td>0.68</td>\n",
       "      <td>0.11</td>\n",
       "      <td>0.2069</td>\n",
       "      <td>1</td>\n",
       "    </tr>\n",
       "    <tr>\n",
       "      <th>1</th>\n",
       "      <td>0</td>\n",
       "      <td>1</td>\n",
       "      <td>0</td>\n",
       "      <td>0</td>\n",
       "      <td>0</td>\n",
       "      <td>1</td>\n",
       "      <td>1</td>\n",
       "      <td>1</td>\n",
       "      <td>0</td>\n",
       "      <td>0</td>\n",
       "      <td>...</td>\n",
       "      <td>1</td>\n",
       "      <td>0</td>\n",
       "      <td>0</td>\n",
       "      <td>0</td>\n",
       "      <td>1</td>\n",
       "      <td>1</td>\n",
       "      <td>0.70</td>\n",
       "      <td>0.08</td>\n",
       "      <td>0.2242</td>\n",
       "      <td>1</td>\n",
       "    </tr>\n",
       "    <tr>\n",
       "      <th>2</th>\n",
       "      <td>0</td>\n",
       "      <td>0</td>\n",
       "      <td>1</td>\n",
       "      <td>0</td>\n",
       "      <td>0</td>\n",
       "      <td>1</td>\n",
       "      <td>1</td>\n",
       "      <td>1</td>\n",
       "      <td>0</td>\n",
       "      <td>0</td>\n",
       "      <td>...</td>\n",
       "      <td>1</td>\n",
       "      <td>0</td>\n",
       "      <td>0</td>\n",
       "      <td>0</td>\n",
       "      <td>0</td>\n",
       "      <td>1</td>\n",
       "      <td>0.76</td>\n",
       "      <td>0.05</td>\n",
       "      <td>0.1849</td>\n",
       "      <td>1</td>\n",
       "    </tr>\n",
       "    <tr>\n",
       "      <th>3</th>\n",
       "      <td>0</td>\n",
       "      <td>1</td>\n",
       "      <td>1</td>\n",
       "      <td>0</td>\n",
       "      <td>0</td>\n",
       "      <td>1</td>\n",
       "      <td>1</td>\n",
       "      <td>1</td>\n",
       "      <td>1</td>\n",
       "      <td>0</td>\n",
       "      <td>...</td>\n",
       "      <td>1</td>\n",
       "      <td>0</td>\n",
       "      <td>0</td>\n",
       "      <td>0</td>\n",
       "      <td>1</td>\n",
       "      <td>1</td>\n",
       "      <td>0.75</td>\n",
       "      <td>0.02</td>\n",
       "      <td>0.2285</td>\n",
       "      <td>1</td>\n",
       "    </tr>\n",
       "    <tr>\n",
       "      <th>4</th>\n",
       "      <td>0</td>\n",
       "      <td>1</td>\n",
       "      <td>0</td>\n",
       "      <td>0</td>\n",
       "      <td>0</td>\n",
       "      <td>1</td>\n",
       "      <td>1</td>\n",
       "      <td>1</td>\n",
       "      <td>0</td>\n",
       "      <td>0</td>\n",
       "      <td>...</td>\n",
       "      <td>1</td>\n",
       "      <td>0</td>\n",
       "      <td>0</td>\n",
       "      <td>0</td>\n",
       "      <td>1</td>\n",
       "      <td>1</td>\n",
       "      <td>0.70</td>\n",
       "      <td>0.08</td>\n",
       "      <td>0.2242</td>\n",
       "      <td>1</td>\n",
       "    </tr>\n",
       "  </tbody>\n",
       "</table>\n",
       "<p>5 rows × 66 columns</p>\n",
       "</div>"
      ],
      "text/plain": [
       "   Contains &lt  ScripTag  Readable  Contains \"><  Contains '><  Contains And  \\\n",
       "0             0         1         0             0             0             0   \n",
       "1             0         1         0             0             0             1   \n",
       "2             0         0         1             0             0             1   \n",
       "3             0         1         1             0             0             1   \n",
       "4             0         1         0             0             0             1   \n",
       "\n",
       "   Contains Percentage  Contains Slash  Contains BackSlash  Contains Plus  \\\n",
       "0                    1               1                   0              0   \n",
       "1                    1               1                   0              0   \n",
       "2                    1               1                   0              0   \n",
       "3                    1               1                   1              0   \n",
       "4                    1               1                   0              0   \n",
       "\n",
       "   ...  Contains Duble Slash  Contains Vertical Bar  Contains Power  \\\n",
       "0  ...                     1                      0               0   \n",
       "1  ...                     1                      0               0   \n",
       "2  ...                     1                      0               0   \n",
       "3  ...                     1                      0               0   \n",
       "4  ...                     1                      0               0   \n",
       "\n",
       "   Contains Broken Bar  Contains Alert  Contains Break Line  Letters Ratio  \\\n",
       "0                    0               1                    1           0.68   \n",
       "1                    0               1                    1           0.70   \n",
       "2                    0               0                    1           0.76   \n",
       "3                    0               1                    1           0.75   \n",
       "4                    0               1                    1           0.70   \n",
       "\n",
       "   Numbuers Ratio  Symbols Ratio  Class  \n",
       "0            0.11         0.2069      1  \n",
       "1            0.08         0.2242      1  \n",
       "2            0.05         0.1849      1  \n",
       "3            0.02         0.2285      1  \n",
       "4            0.08         0.2242      1  \n",
       "\n",
       "[5 rows x 66 columns]"
      ]
     },
     "execution_count": 14,
     "metadata": {},
     "output_type": "execute_result"
    }
   ],
   "source": [
    "for j in testing_data.columns:\n",
    "    if testing_data[j].dtype=='object': \n",
    "        le2 = LabelEncoder()\n",
    "        le2.fit(list(testing_data[j].values))\n",
    "        testing_data[j] = le.transform(testing_data[j].values)\n",
    "        \n",
    "testing_data.head()   "
   ]
  },
  {
   "cell_type": "code",
   "execution_count": 15,
   "id": "9b5983e0",
   "metadata": {},
   "outputs": [],
   "source": [
    "X_test=testing_data.drop(['Class'],axis='columns')\n",
    "sc2=MinMaxScaler()\n",
    "X_test= sc2.fit_transform(X_test)"
   ]
  },
  {
   "cell_type": "code",
   "execution_count": 16,
   "id": "dc44f55a",
   "metadata": {},
   "outputs": [],
   "source": [
    "prediction=model.predict(X_test)"
   ]
  },
  {
   "cell_type": "code",
   "execution_count": 17,
   "id": "4ca54899",
   "metadata": {},
   "outputs": [
    {
     "name": "stdout",
     "output_type": "stream",
     "text": [
      "[[1.0000000e+00]\n",
      " [1.0000000e+00]\n",
      " [9.9996722e-01]\n",
      " ...\n",
      " [1.9802419e-13]\n",
      " [3.9890668e-04]\n",
      " [6.8595876e-12]]\n"
     ]
    }
   ],
   "source": [
    "print(prediction)"
   ]
  },
  {
   "cell_type": "markdown",
   "id": "a713435a",
   "metadata": {},
   "source": [
    "# Model_Summary"
   ]
  },
  {
   "cell_type": "code",
   "execution_count": 18,
   "id": "1df51da9",
   "metadata": {},
   "outputs": [
    {
     "name": "stdout",
     "output_type": "stream",
     "text": [
      "Model: \"sequential\"\n",
      "_________________________________________________________________\n",
      "Layer (type)                 Output Shape              Param #   \n",
      "=================================================================\n",
      "dense (Dense)                (None, 400)               26400     \n",
      "_________________________________________________________________\n",
      "dense_1 (Dense)              (None, 200)               80200     \n",
      "_________________________________________________________________\n",
      "dense_2 (Dense)              (None, 100)               20100     \n",
      "_________________________________________________________________\n",
      "dense_3 (Dense)              (None, 50)                5050      \n",
      "_________________________________________________________________\n",
      "dense_4 (Dense)              (None, 1)                 51        \n",
      "=================================================================\n",
      "Total params: 131,801\n",
      "Trainable params: 131,801\n",
      "Non-trainable params: 0\n",
      "_________________________________________________________________\n"
     ]
    }
   ],
   "source": [
    "model.summary()"
   ]
  },
  {
   "cell_type": "markdown",
   "id": "694d1e2f",
   "metadata": {},
   "source": [
    "# Model_Evaluation"
   ]
  },
  {
   "cell_type": "code",
   "execution_count": 19,
   "id": "67f34003",
   "metadata": {},
   "outputs": [
    {
     "name": "stdout",
     "output_type": "stream",
     "text": [
      "753/753 [==============================] - 1s 1ms/step - loss: 0.0021 - accuracy: 0.9993\n"
     ]
    },
    {
     "data": {
      "text/plain": [
       "[0.00211272481828928, 0.99925297498703]"
      ]
     },
     "execution_count": 19,
     "metadata": {},
     "output_type": "execute_result"
    }
   ],
   "source": [
    "model.evaluate(X_test,testing_data.Class)"
   ]
  },
  {
   "cell_type": "code",
   "execution_count": null,
   "id": "aef4c310",
   "metadata": {},
   "outputs": [],
   "source": []
  }
 ],
 "metadata": {
  "kernelspec": {
   "display_name": "Python 3 (ipykernel)",
   "language": "python",
   "name": "python3"
  },
  "language_info": {
   "codemirror_mode": {
    "name": "ipython",
    "version": 3
   },
   "file_extension": ".py",
   "mimetype": "text/x-python",
   "name": "python",
   "nbconvert_exporter": "python",
   "pygments_lexer": "ipython3",
   "version": "3.9.6"
  }
 },
 "nbformat": 4,
 "nbformat_minor": 5
}
